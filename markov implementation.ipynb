{
 "cells": [
  {
   "cell_type": "code",
   "execution_count": 1,
   "id": "514f2847",
   "metadata": {},
   "outputs": [],
   "source": [
    "def diplay_grid(grid):\n",
    "    for row in grid:\n",
    "        for state in row:\n",
    "            if state == 'wall':\n",
    "                print(f'| {state} |',end='')\n",
    "            else:\n",
    "                print(f'|  {state}   |',end='')\n",
    "        print()\n",
    "        print('----------------------------------')"
   ]
  },
  {
   "cell_type": "code",
   "execution_count": 2,
   "id": "d7b4867d",
   "metadata": {},
   "outputs": [],
   "source": [
    "def available_actions(grid,state,actions):\n",
    "    action_aval = []\n",
    "    for action in actions:\n",
    "        row = state[0]+action[0]\n",
    "        if row < 0 or row > 2:\n",
    "            continue\n",
    "        col = state[1]+action[1]\n",
    "        if col < 0 or col > 3:\n",
    "            continue\n",
    "        if type(grid[row][col]) == str:\n",
    "            continue\n",
    "        action_aval.append(action)\n",
    "    return action_aval"
   ]
  },
  {
   "cell_type": "code",
   "execution_count": 3,
   "id": "2e96afc1",
   "metadata": {},
   "outputs": [],
   "source": [
    "def get_policy(grid,actions):\n",
    "    policy_grid = [[0,0,0,1],\n",
    "        [0,'Wall', 0,-1],\n",
    "        [0,0,0,0]\n",
    "       ]\n",
    "    dimensions = (len(grid),len(grid[0]))\n",
    "    for row in range(dimensions[0]):\n",
    "        for col in range(dimensions[1]):\n",
    "            if grid[row][col] in [1,-1,'Wall']:\n",
    "                continue\n",
    "            action_lst = available_actions(grid,(row,col),actions)\n",
    "            max_value = 0\n",
    "            max_action = None \n",
    "            for action in action_lst:\n",
    "                if max_value < grid[row+action[0]][col+action[1]]:\n",
    "                    max_value = grid[row+action[0]][col+action[1]]\n",
    "                    max_action = action\n",
    "            if max_action == (1,0):\n",
    "                  policy_grid[row][col] = 'Down'\n",
    "            elif max_action == (-1,0):\n",
    "                  policy_grid[row][col] = 'Up'\n",
    "            elif max_action == (0,1):\n",
    "                  policy_grid[row][col] = 'Right'\n",
    "            elif max_action == (0,-1):\n",
    "                  policy_grid[row][col] = 'Left'\n",
    "    return policy_grid"
   ]
  },
  {
   "cell_type": "code",
   "execution_count": 4,
   "id": "38a6595b",
   "metadata": {},
   "outputs": [],
   "source": [
    "def Q_values(grid,actions,gamma=0.9,noise=0.2,num_iter=100):\n",
    "    dimensions = (len(grid),len(grid[0]))\n",
    "    trans = 1-noise\n",
    "    theta = 0.05\n",
    "    for iteration in range(num_iter):\n",
    "        delta = float('-inf')\n",
    "        for row in range(dimensions[0]):\n",
    "            for col in range(dimensions[1]):\n",
    "                if grid[row][col] in [1,-1,'Wall']:\n",
    "                    continue\n",
    "                values = []\n",
    "                action_lst = available_actions(grid,(row,col),actions)\n",
    "                d_noise = noise / (len(action_lst)-1)\n",
    "                for i in action_lst:\n",
    "                    belman = trans * grid[row+i[0]][col+i[1]] * gamma\n",
    "                    for j in action_lst:\n",
    "                        if i == j:\n",
    "                            continue\n",
    "                        belman += d_noise * grid[row+j[0]][col+j[1]] * gamma\n",
    "                    values.append(belman)\n",
    "                diff = abs(grid[row][col]-round(max(values),2))\n",
    "                delta = max(diff,delta)\n",
    "                grid[row][col] = round(max(values),2)\n",
    "        print(f\"Iteration {iteration}\")\n",
    "        diplay_grid(grid)\n",
    "        print(f\"delta = {delta:0.2f}\")\n",
    "        if delta <= theta:\n",
    "            break\n",
    "    return grid\n",
    "                "
   ]
  },
  {
   "cell_type": "code",
   "execution_count": 5,
   "id": "dc1f6736",
   "metadata": {},
   "outputs": [
    {
     "name": "stdout",
     "output_type": "stream",
     "text": [
      "|  0   ||  0   ||  0   ||  1   |\n",
      "----------------------------------\n",
      "|  0   ||  Wall   ||  0   ||  -1   |\n",
      "----------------------------------\n",
      "|  0   ||  0   ||  0   ||  0   |\n",
      "----------------------------------\n"
     ]
    }
   ],
   "source": [
    "actions = [(1,0),(-1,0),(0,1),(0,-1)] # down, up , right, left\n",
    "\n",
    "grid = [[0,0,0,1],\n",
    "        [0,'Wall', 0,-1],\n",
    "        [0,0,0,0]\n",
    "       ]\n",
    "diplay_grid(grid)"
   ]
  },
  {
   "cell_type": "code",
   "execution_count": 6,
   "id": "2d3af31d",
   "metadata": {},
   "outputs": [
    {
     "name": "stdout",
     "output_type": "stream",
     "text": [
      "Iteration 0\n",
      "|  0.0   ||  0.0   ||  0.72   ||  1   |\n",
      "----------------------------------\n",
      "|  0.0   ||  Wall   ||  0.43   ||  -1   |\n",
      "----------------------------------\n",
      "|  0.0   ||  0.0   ||  0.31   ||  0.04   |\n",
      "----------------------------------\n",
      "delta = 0.72\n",
      "Iteration 1\n",
      "|  0.0   ||  0.52   ||  0.81   ||  1   |\n",
      "----------------------------------\n",
      "|  0.0   ||  Wall   ||  0.52   ||  -1   |\n",
      "----------------------------------\n",
      "|  0.0   ||  0.22   ||  0.4   ||  0.11   |\n",
      "----------------------------------\n",
      "delta = 0.52\n",
      "Iteration 2\n",
      "|  0.37   ||  0.65   ||  0.83   ||  1   |\n",
      "----------------------------------\n",
      "|  0.27   ||  Wall   ||  0.54   ||  -1   |\n",
      "----------------------------------\n",
      "|  0.23   ||  0.33   ||  0.43   ||  0.13   |\n",
      "----------------------------------\n",
      "delta = 0.37\n",
      "Iteration 3\n",
      "|  0.52   ||  0.69   ||  0.83   ||  1   |\n",
      "----------------------------------\n",
      "|  0.42   ||  Wall   ||  0.55   ||  -1   |\n",
      "----------------------------------\n",
      "|  0.36   ||  0.37   ||  0.44   ||  0.14   |\n",
      "----------------------------------\n",
      "delta = 0.15\n",
      "Iteration 4\n",
      "|  0.57   ||  0.7   ||  0.83   ||  1   |\n",
      "----------------------------------\n",
      "|  0.48   ||  Wall   ||  0.55   ||  -1   |\n",
      "----------------------------------\n",
      "|  0.41   ||  0.39   ||  0.44   ||  0.14   |\n",
      "----------------------------------\n",
      "delta = 0.06\n",
      "Iteration 5\n",
      "|  0.59   ||  0.7   ||  0.83   ||  1   |\n",
      "----------------------------------\n",
      "|  0.5   ||  Wall   ||  0.55   ||  -1   |\n",
      "----------------------------------\n",
      "|  0.43   ||  0.39   ||  0.44   ||  0.14   |\n",
      "----------------------------------\n",
      "delta = 0.02\n"
     ]
    }
   ],
   "source": [
    "value_grid = Q_values(grid,actions)"
   ]
  },
  {
   "cell_type": "code",
   "execution_count": 7,
   "id": "77ca0e48",
   "metadata": {},
   "outputs": [
    {
     "name": "stdout",
     "output_type": "stream",
     "text": [
      "|  Right   ||  Right   ||  Right   ||  1   |\n",
      "----------------------------------\n",
      "|  Up   ||  Wall   ||  Up   ||  -1   |\n",
      "----------------------------------\n",
      "|  Up   ||  Right   ||  Up   ||  Left   |\n",
      "----------------------------------\n"
     ]
    }
   ],
   "source": [
    "policy_grid = get_policy(value_grid,actions)\n",
    "diplay_grid(policy_grid)"
   ]
  },
  {
   "cell_type": "code",
   "execution_count": null,
   "id": "af0298d9",
   "metadata": {},
   "outputs": [],
   "source": []
  }
 ],
 "metadata": {
  "kernelspec": {
   "display_name": "Python 3 (ipykernel)",
   "language": "python",
   "name": "python3"
  },
  "language_info": {
   "codemirror_mode": {
    "name": "ipython",
    "version": 3
   },
   "file_extension": ".py",
   "mimetype": "text/x-python",
   "name": "python",
   "nbconvert_exporter": "python",
   "pygments_lexer": "ipython3",
   "version": "3.9.12"
  }
 },
 "nbformat": 4,
 "nbformat_minor": 5
}
